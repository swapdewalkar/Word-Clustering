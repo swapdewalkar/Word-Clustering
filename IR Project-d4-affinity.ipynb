{
 "cells": [
  {
   "cell_type": "code",
   "execution_count": 1,
   "metadata": {},
   "outputs": [],
   "source": [
    "from nltk.tokenize import word_tokenize\n",
    "from nltk.stem import PorterStemmer\n",
    "from nltk.corpus import wordnet\n",
    "import os\n",
    "import re\n",
    "import math\n",
    "from scipy import spatial\n",
    "import numpy as np\n",
    "import pprint\n",
    "import sklearn.cluster\n",
    "from sklearn.cluster import spectral_clustering\n",
    "import pickle\n",
    "\n",
    "\n",
    "def SpecialCharacters(word):\n",
    "\tif len(word)<3:\n",
    "\t\treturn 1\n",
    "\treturn 0"
   ]
  },
  {
   "cell_type": "code",
   "execution_count": 2,
   "metadata": {
    "scrolled": true
   },
   "outputs": [
    {
     "name": "stdout",
     "output_type": "stream",
     "text": [
      "['a', 'about', 'above', 'across', 'after', 'again', 'against', 'all', 'almost', 'alone', 'along', 'already', 'also', 'although', 'always', 'among', 'an', 'and', 'another', 'any', 'anybody', 'anyone', 'anything', 'anywhere', 'are', 'area', 'areas', 'around', 'as', 'ask', 'asked', 'asking', 'asks', 'at', 'away', 'b', 'back', 'backed', 'backing', 'backs', 'be', 'became', 'because', 'become', 'becomes', 'been', 'before', 'began', 'behind', 'being', 'beings', 'best', 'better', 'between', 'big', 'both', 'but', 'by', 'c', 'came', 'can', 'cannot', 'case', 'cases', 'certain', 'certainly', 'clear', 'clearly', 'come', 'could', 'd', 'did', 'differ', 'different', 'differently', 'do', 'does', 'done', 'down', 'down', 'downed', 'downing', 'downs', 'during', 'e', 'each', 'early', 'either', 'end', 'ended', 'ending', 'ends', 'enough', 'even', 'evenly', 'ever', 'every', 'everybody', 'everyone', 'everything', 'everywhere', 'f', 'face', 'faces', 'fact', 'facts', 'far', 'felt', 'few', 'find', 'finds', 'first', 'for', 'four', 'from', 'full', 'fully', 'further', 'furthered', 'furthering', 'furthers', 'g', 'gave', 'general', 'generally', 'get', 'gets', 'give', 'given', 'gives', 'go', 'going', 'good', 'goods', 'got', 'great', 'greater', 'greatest', 'group', 'grouped', 'grouping', 'groups', 'h', 'had', 'has', 'have', 'having', 'he', 'her', 'here', 'herself', 'high', 'high', 'high', 'higher', 'highest', 'him', 'himself', 'his', 'how', 'however', 'i', 'if', 'important', 'in', 'interest', 'interested', 'interesting', 'interests', 'into', 'is', 'it', 'its', 'itself', 'j', 'just', 'k', 'keep', 'keeps', 'kind', 'knew', 'know', 'known', 'knows', 'l', 'large', 'largely', 'last', 'later', 'latest', 'least', 'less', 'let', 'lets', 'like', 'likely', 'long', 'longer', 'longest', 'm', 'made', 'make', 'making', 'man', 'many', 'may', 'me', 'member', 'members', 'men', 'might', 'more', 'most', 'mostly', 'mr', 'mrs', 'much', 'must', 'my', 'myself', 'n', 'necessary', 'need', 'needed', 'needing', 'needs', 'never', 'new', 'new', 'newer', 'newest', 'next', 'no', 'nobody', 'non', 'noone', 'not', 'nothing', 'now', 'nowhere', 'number', 'numbers', 'o', 'of', 'off', 'often', 'old', 'older', 'oldest', 'on', 'once', 'one', 'only', 'open', 'opened', 'opening', 'opens', 'or', 'order', 'ordered', 'ordering', 'orders', 'other', 'others', 'our', 'out', 'over', 'p', 'part', 'parted', 'parting', 'parts', 'per', 'perhaps', 'place', 'places', 'point', 'pointed', 'pointing', 'points', 'possible', 'present', 'presented', 'presenting', 'presents', 'problem', 'problems', 'put', 'puts', 'q', 'quite', 'r', 'rather', 'really', 'right', 'right', 'room', 'rooms', 's', 'said', 'same', 'saw', 'say', 'says', 'second', 'seconds', 'see', 'seem', 'seemed', 'seeming', 'seems', 'sees', 'several', 'shall', 'she', 'should', 'show', 'showed', 'showing', 'shows', 'side', 'sides', 'since', 'small', 'smaller', 'smallest', 'so', 'some', 'somebody', 'someone', 'something', 'somewhere', 'state', 'states', 'still', 'still', 'such', 'sure', 't', 'take', 'taken', 'than', 'that', 'the', 'their', 'them', 'then', 'there', 'therefore', 'these', 'they', 'thing', 'things', 'think', 'thinks', 'this', 'those', 'though', 'thought', 'thoughts', 'three', 'through', 'thus', 'to', 'today', 'together', 'too', 'took', 'toward', 'turn', 'turned', 'turning', 'turns', 'two', 'u', 'under', 'until', 'up', 'upon', 'us', 'use', 'used', 'uses', 'v', 'very', 'w', 'want', 'wanted', 'wanting', 'wants', 'was', 'way', 'ways', 'we', 'well', 'wells', 'went', 'were', 'what', 'when', 'where', 'whether', 'which', 'while', 'who', 'whole', 'whose', 'why', 'will', 'with', 'within', 'without', 'work', 'worked', 'working', 'works', 'would', 'x', 'y', 'year', 'years', 'yet', 'you', 'young', 'younger', 'youngest', 'your', 'yours', 'z', ';', ',', \"'\", '-', '(', ')', ':', '/', '.', '?']\n"
     ]
    }
   ],
   "source": [
    "inp_stop=open('data/stopwords.txt','r+') #read stopword from file\n",
    "stopwords=eval(inp_stop.read())\n",
    "print stopwords\n",
    "id=-1\n",
    "i=0\n",
    "directory=\"d\"\n",
    "II={}\n",
    "Document_TF_Count={}"
   ]
  },
  {
   "cell_type": "code",
   "execution_count": 3,
   "metadata": {},
   "outputs": [
    {
     "name": "stdout",
     "output_type": "stream",
     "text": [
      "book pencil bus table\n",
      "signal road pen traffic\n",
      "fish boat river sail\n",
      "pencil pen \n"
     ]
    }
   ],
   "source": [
    "Documents=os.listdir(directory)\n",
    "for Document in Documents:\n",
    "# \tif i<4:\n",
    "\ti=i+1\n",
    "# \telse:\n",
    "# \t\tbreak\n",
    "\tf=open(directory+\"/\"+Document,'r');\n",
    "\tc=f.read()\n",
    "# \tc=f.read().split('\\n')\n",
    "# \tprint c\n",
    "\tf.close();\n",
    "\t# id=c[4].replace('DOC ID:','')\n",
    "\tid=id+1\n",
    "\tcontent=c\n",
    "# \tcontent=c[5].replace('CONTENT:','')\n",
    "\tprint content\n",
    "\twords=word_tokenize(str(content))\n",
    "\tlower_words=[x.lower() for x in words if not SpecialCharacters(x) and x not in stopwords]\n",
    "\tupper_words=[x for x in words if x.upper()==x and not SpecialCharacters(x)]\n",
    "\twords=[]\n",
    "\twords=lower_words+upper_words\n",
    "\tWordCount1={}\n",
    "\t#\t\n",
    "\tfor w in words:\n",
    "\t\t# if word in stopwords:\n",
    "\t\t#Term Frequency \n",
    "\t\tif w in WordCount1:\n",
    "\t\t\tWordCount1[w]=WordCount1[w]+1\n",
    "\t\telse:\n",
    "\t\t\tWordCount1[w]=1\n",
    "\t\t#Inverted Index\t\n",
    "\t\tif w in II:\n",
    "\t\t\tif id not in II[w]:\n",
    "\t\t\t\tII[w].append(id)\n",
    "\t\telse:\n",
    "\t\t\tII[w]=[]\n",
    "\t\t\tII[w].append(id)\n",
    "\tDocument_TF_Count[id]=WordCount1"
   ]
  },
  {
   "cell_type": "code",
   "execution_count": 4,
   "metadata": {},
   "outputs": [
    {
     "name": "stdout",
     "output_type": "stream",
     "text": [
      "{0: {'pencil': 1, 'bus': 1, 'signal': 0, 'sail': 0, 'pen': 0, 'book': 1, 'traffic': 0, 'road': 0, 'table': 1, 'river': 0, 'fish': 0, 'boat': 0}, 1: {'pencil': 0, 'bus': 0, 'signal': 1, 'sail': 0, 'pen': 1, 'book': 0, 'traffic': 1, 'boat': 0, 'table': 0, 'river': 0, 'fish': 0, 'road': 1}, 2: {'pencil': 0, 'bus': 0, 'fish': 1, 'sail': 1, 'pen': 0, 'book': 0, 'traffic': 0, 'road': 0, 'table': 0, 'river': 1, 'signal': 0, 'boat': 1}, 3: {'pencil': 1, 'bus': 0, 'signal': 0, 'sail': 0, 'pen': 1, 'book': 0, 'traffic': 0, 'road': 0, 'table': 0, 'river': 0, 'fish': 0, 'boat': 0}}\n"
     ]
    }
   ],
   "source": [
    "#Assign Term Frequency as Zero\n",
    "vocab=II.keys()\n",
    "for v in vocab:\n",
    "\tfor key in Document_TF_Count:\n",
    "\t\tif v not in Document_TF_Count[key]:\n",
    "\t\t\tDocument_TF_Count[key][v]=0\n",
    "print Document_TF_Count"
   ]
  },
  {
   "cell_type": "code",
   "execution_count": 5,
   "metadata": {},
   "outputs": [
    {
     "name": "stdout",
     "output_type": "stream",
     "text": [
      "{0: {'pencil': 1, 'bus': 1, 'signal': 0, 'sail': 0, 'pen': 0, 'book': 1, 'traffic': 0, 'road': 0, 'table': 1, 'river': 0, 'fish': 0, 'boat': 0}, 1: {'pencil': 0, 'bus': 0, 'signal': 1, 'sail': 0, 'pen': 1, 'book': 0, 'traffic': 1, 'boat': 0, 'table': 0, 'river': 0, 'fish': 0, 'road': 1}, 2: {'pencil': 0, 'bus': 0, 'fish': 1, 'sail': 1, 'pen': 0, 'book': 0, 'traffic': 0, 'road': 0, 'table': 0, 'river': 1, 'signal': 0, 'boat': 1}, 3: {'pencil': 1, 'bus': 0, 'signal': 0, 'sail': 0, 'pen': 1, 'book': 0, 'traffic': 0, 'road': 0, 'table': 0, 'river': 0, 'fish': 0, 'boat': 0}}\n",
      "[0, 1, 2, 3]\n"
     ]
    }
   ],
   "source": [
    "##Stemming#\n",
    "stemmer=PorterStemmer()\n",
    "l=len(vocab)\n",
    "for key in Document_TF_Count:\n",
    "\tfor t1 in range(l):\n",
    "\t\tfor t2 in range(t1+1,l):\n",
    "\t\t\tv1=vocab[t1]\n",
    "\t\t\tv2=vocab[t2]\n",
    "\t\t\tstem1=stemmer.stem(v1)\n",
    "\t\t\tstem2=stemmer.stem(v2)\n",
    "\n",
    "\t\t\ttc1=Document_TF_Count[key][v1]\n",
    "\t\t\ttc2=Document_TF_Count[key][v2]\t\n",
    "\t\t\tif tc1>0 and tc2>0 and v1!=v2 and stem1==stem2 and v1.upper()!=v2 and v2.upper()!=v1:\n",
    "\t\t\t#terms should exists in the same document not be equal, \n",
    "\t\t\t#even upper or lower case should not be equal but stem should be\t\t\t\n",
    "\t\t\t\t# print stem1\n",
    "\t\t\t\t# print stem2\n",
    "\t\t\t\tDocument_TF_Count[key][v1]=tc1+1\n",
    "\t\t\t\tDocument_TF_Count[key][v2]=tc1+1\n",
    "print Document_TF_Count\n",
    "#Calculate TF-IDF\n",
    "print Document_TF_Count.keys()"
   ]
  },
  {
   "cell_type": "code",
   "execution_count": 6,
   "metadata": {},
   "outputs": [],
   "source": [
    "with open('Document_TF_Count', 'wb') as fp:\n",
    "    pickle.dump(Document_TF_Count, fp)\n",
    "\n",
    "with open ('Document_TF_Count', 'rb') as fp:\n",
    "    Document_TF_Count = pickle.load(fp)"
   ]
  },
  {
   "cell_type": "code",
   "execution_count": 7,
   "metadata": {},
   "outputs": [
    {
     "name": "stdout",
     "output_type": "stream",
     "text": [
      "Term Vector without sumation similarity\n",
      "{'boat': [0.0, 0.0, 0.6020599913279623, 0.0],\n",
      " 'book': [0.6020599913279623, 0.0, 0.0, 0.0],\n",
      " 'bus': [0.6020599913279623, 0.0, 0.0, 0.0],\n",
      " 'fish': [0.0, 0.0, 0.6020599913279623, 0.0],\n",
      " 'pen': [0.0, 0.30102999566398114, 0.0, 0.30102999566398114],\n",
      " 'pencil': [0.30102999566398114, 0.0, 0.0, 0.30102999566398114],\n",
      " 'river': [0.0, 0.0, 0.6020599913279623, 0.0],\n",
      " 'road': [0.0, 0.6020599913279623, 0.0, 0.0],\n",
      " 'sail': [0.0, 0.0, 0.6020599913279623, 0.0],\n",
      " 'signal': [0.0, 0.6020599913279623, 0.0, 0.0],\n",
      " 'table': [0.6020599913279623, 0.0, 0.0, 0.0],\n",
      " 'traffic': [0.0, 0.6020599913279623, 0.0, 0.0]}\n"
     ]
    }
   ],
   "source": [
    "term_vector={}\n",
    "for v in vocab:\n",
    "\tidf=math.log((float(id+1)/len(II[v])),10)\n",
    "\tarray=[]\n",
    "\tfor key in Document_TF_Count:\n",
    "\t\tk=int(key)\n",
    "\t\tarray+=[Document_TF_Count[key][v]*idf]\n",
    "\tterm_vector[v]=array\n",
    "print \"Term Vector without sumation similarity\"\n",
    "pprint.pprint(term_vector)\n",
    "#~ print \"++++++++++++++++++\""
   ]
  },
  {
   "cell_type": "code",
   "execution_count": 8,
   "metadata": {},
   "outputs": [],
   "source": [
    "with open('termvector', 'wb') as fp:\n",
    "    pickle.dump(term_vector, fp)\n",
    "\n",
    "with open ('termvector', 'rb') as fp:\n",
    "    term_vector = pickle.load(fp)"
   ]
  },
  {
   "cell_type": "code",
   "execution_count": 9,
   "metadata": {},
   "outputs": [],
   "source": [
    "# Update TF-IDF using TMI\n",
    "def sim_f(word1, word2):\n",
    "\tif word1==word2:\n",
    "\t\treturn 0\n",
    "\tmax_value=0.0\n",
    "# \twordFromList1 = wordnet.synsets(word1)\n",
    "# \twordFromList2 = wordnet.synsets(word2)\n",
    "# \tfor wl1 in wordFromList1:\n",
    "# \t\tif wl1 in wordFromList2:\n",
    "# \t\t\treturn 1\n",
    "\treturn 0\t\n",
    "# \t\tfor wl2 in wordFromList2:\n",
    "# \t\t\tp=wl1.wup_similarity(wl2)\n",
    "# \t\t\tif max_value < p: \n",
    "# \t\t\t\tmax_value = p\n",
    "# \treturn max_value\n",
    "\n",
    "def sim_f1(word1, word2):\n",
    "\tif word1==word2:\n",
    "\t\treturn 0\n",
    "\tmax_value=0.0\n",
    "\twordFromList1 = wordnet.synsets(word1)\n",
    "\twordFromList2 = wordnet.synsets(word2)\n",
    "\tfor wl1 in wordFromList1:\n",
    "\t\tif wl1 in wordFromList2:\n",
    "\t\t\treturn 1\n",
    "\treturn 0\t\n",
    "# \t\tfor wl2 in wordFromList2:\n",
    "# \t\t\tp=wl1.wup_similarity(wl2)\n",
    "# \t\t\tif max_value < p: \n",
    "# \t\t\t\tmax_value = p\n",
    "# \treturn max_value\n",
    "\n",
    "def sim_f2(word1, word2):\n",
    "\tif word1==word2:\n",
    "\t\treturn 0\n",
    "\tmax_value=0.0\n",
    "\twordFromList1 = wordnet.synsets(word1)\n",
    "\twordFromList2 = wordnet.synsets(word2)\n",
    "\tfor wl1 in wordFromList1:\n",
    "# \t\tif wl1 in wordFromList2:\n",
    "# \t\t\treturn 1\n",
    "# \treturn 0\t\n",
    "\t\tfor wl2 in wordFromList2:\n",
    "\t\t\tp=wl1.wup_similarity(wl2)\n",
    "\t\t\tif max_value < p: \n",
    "\t\t\t\tmax_value = p\n",
    "\treturn max_value\n"
   ]
  },
  {
   "cell_type": "code",
   "execution_count": 10,
   "metadata": {},
   "outputs": [
    {
     "name": "stdout",
     "output_type": "stream",
     "text": [
      "Similirity {'pencil': {'pencil': 0, 'bus': 0.6666666666666666, 'signal': 0.4, 'sail': 0.625, 'pen': 0.8888888888888888, 'book': 0.5882352941176471, 'traffic': 0.36363636363636365, 'boat': 0.6666666666666666, 'table': 0.6666666666666666, 'river': 0.2857142857142857, 'fish': 0.47058823529411764, 'road': 0.625}, 'bus': {'pencil': 0.6666666666666666, 'bus': 0, 'signal': 0.5, 'sail': 0.6666666666666666, 'pen': 0.6666666666666666, 'book': 0.5882352941176471, 'traffic': 0.35294117647058826, 'boat': 0.75, 'table': 0.6666666666666666, 'river': 0.26666666666666666, 'fish': 0.47058823529411764, 'road': 0.625}, 'signal': {'pencil': 0.4, 'bus': 0.5, 'signal': 0, 'sail': 0.3157894736842105, 'pen': 0.2222222222222222, 'book': 0.6, 'traffic': 0.4444444444444444, 'boat': 0.2222222222222222, 'table': 0.4, 'river': 0.26666666666666666, 'fish': 0.2857142857142857, 'road': 0.4}, 'sail': {'pencil': 0.625, 'bus': 0.6666666666666666, 'signal': 0.4, 'sail': 0, 'pen': 0.75, 'book': 0.6666666666666666, 'traffic': 0.5714285714285714, 'boat': 0.8888888888888888, 'table': 0.625, 'river': 0.3076923076923077, 'fish': 0.5333333333333333, 'road': 0.7142857142857143}, 'pen': {'pencil': 0.8888888888888888, 'bus': 0.6666666666666666, 'signal': 0.3333333333333333, 'sail': 0.75, 'pen': 0, 'book': 0.5882352941176471, 'traffic': 0.2857142857142857, 'boat': 0.6666666666666666, 'table': 0.6666666666666666, 'river': 0.26666666666666666, 'fish': 0.75, 'road': 0.625}, 'book': {'pencil': 0.5882352941176471, 'bus': 0.5882352941176471, 'signal': 0.6, 'sail': 0.6666666666666666, 'pen': 0.5882352941176471, 'book': 0, 'traffic': 0.8, 'boat': 0.5882352941176471, 'table': 0.5882352941176471, 'river': 0.2857142857142857, 'fish': 0.5, 'road': 0.6666666666666666}, 'traffic': {'pencil': 0.36363636363636365, 'bus': 0.35294117647058826, 'signal': 0.4444444444444444, 'sail': 0.5714285714285714, 'pen': 0.2857142857142857, 'book': 0.8, 'traffic': 0, 'boat': 0.25, 'table': 0.5454545454545454, 'river': 0.2, 'fish': 0.3333333333333333, 'road': 0.6666666666666666}, 'boat': {'pencil': 0.6666666666666666, 'bus': 0.75, 'signal': 0.2857142857142857, 'sail': 0.8888888888888888, 'pen': 0.6666666666666666, 'book': 0.5882352941176471, 'traffic': 0.25, 'boat': 0, 'table': 0.6666666666666666, 'river': 0.26666666666666666, 'fish': 0.47058823529411764, 'road': 0.625}, 'table': {'pencil': 0.6666666666666666, 'bus': 0.6666666666666666, 'signal': 0.4, 'sail': 0.625, 'pen': 0.6666666666666666, 'book': 0.5882352941176471, 'traffic': 0.5454545454545454, 'boat': 0.6666666666666666, 'table': 0, 'river': 0.3076923076923077, 'fish': 0.47058823529411764, 'road': 0.625}, 'river': {'pencil': 0.2857142857142857, 'bus': 0.26666666666666666, 'signal': 0.26666666666666666, 'sail': 0.3076923076923077, 'pen': 0.26666666666666666, 'book': 0.2857142857142857, 'traffic': 0.18181818181818182, 'boat': 0.26666666666666666, 'table': 0.3076923076923077, 'river': 0, 'fish': 0.36363636363636365, 'road': 0.3076923076923077}, 'fish': {'pencil': 0.47058823529411764, 'bus': 0.47058823529411764, 'signal': 0.4, 'sail': 0.5333333333333333, 'pen': 0.75, 'book': 0.5, 'traffic': 0.3333333333333333, 'boat': 0.47058823529411764, 'table': 0.47058823529411764, 'river': 0.36363636363636365, 'fish': 0, 'road': 0.5333333333333333}, 'road': {'pencil': 0.625, 'bus': 0.625, 'signal': 0.4, 'sail': 0.7142857142857143, 'pen': 0.625, 'book': 0.6666666666666666, 'traffic': 0.6666666666666666, 'boat': 0.625, 'table': 0.625, 'river': 0.3076923076923077, 'fish': 0.5333333333333333, 'road': 0}}\n"
     ]
    }
   ],
   "source": [
    "sim={}\n",
    "for term1 in term_vector:\n",
    "\tsim[term1]={}\n",
    "\tfor term2 in term_vector:\n",
    "\t\tsim[term1][term2]=sim_f2(term1,term2)\n",
    "\n",
    "with open('sim', 'wb') as fp:\n",
    "    pickle.dump(sim, fp)\n",
    "\n",
    "with open ('sim', 'rb') as fp:\n",
    "    sim = pickle.load(fp)\n",
    "print \"Similirity\",sim"
   ]
  },
  {
   "cell_type": "code",
   "execution_count": 11,
   "metadata": {},
   "outputs": [
    {
     "name": "stdout",
     "output_type": "stream",
     "text": [
      "Term Vector sumation similarity\n",
      "{'boat': [23.64902218741366,\n",
      "          21.565057521001062,\n",
      "          24.699713954069907,\n",
      "          6.578635640156678],\n",
      " 'book': [11.80809161241831,\n",
      "          10.757553501459538,\n",
      "          11.84753632921607,\n",
      "          3.1732560337709357],\n",
      " 'bus': [2.3295393128506774,\n",
      "         1.8262456592761653,\n",
      "         2.1187902085100117,\n",
      "         0.5797614731306303],\n",
      " 'fish': [64.97861267436362,\n",
      "          59.91019887371499,\n",
      "          67.42494576839523,\n",
      "          18.12288805364567],\n",
      " 'pen': [7.524243921822745,\n",
      "         6.831723960940127,\n",
      "         7.791120084259965,\n",
      "         2.288724553298774],\n",
      " 'pencil': [1.457929586843203,\n",
      "            1.1036246154165854,\n",
      "            1.2330003113715868,\n",
      "            0.5686122140319644],\n",
      " 'river': [31.06815277323863,\n",
      "           28.654002708510465,\n",
      "           32.60442347877912,\n",
      "           8.636492975915129],\n",
      " 'road': [116.20750077971213,\n",
      "          107.43497287000125,\n",
      "          119.68994081108065,\n",
      "          32.32977708761651],\n",
      " 'sail': [4.181893615472304,\n",
      "          3.9198858939243792,\n",
      "          4.710355125357251,\n",
      "          1.2013512499797558],\n",
      " 'signal': [2.350001482490582,\n",
      "            2.531934436623843,\n",
      "            2.2090770171756176,\n",
      "            0.5842211767700967],\n",
      " 'table': [43.523981800212894,\n",
      "           39.76367614662147,\n",
      "           44.457828720090475,\n",
      "           12.010158948015206],\n",
      " 'traffic': [16.711098783498734,\n",
      "             15.972511575806907,\n",
      "             17.045292599348294,\n",
      "             4.550056187090233]}\n"
     ]
    }
   ],
   "source": [
    "for term in term_vector:\n",
    " \tl=len(term_vector[term])\n",
    " \t#~ print term\n",
    " \tfor i in range(l):\n",
    "\t\tsumation=0\n",
    "\t\tfor v in vocab:\n",
    "\t\t\tsumation+=term_vector[v][i]*sim[term][v]\t\n",
    "\t\tterm_vector[term][i]+=sumation\t\t\n",
    "print \"Term Vector sumation similarity\"\n",
    "pprint.pprint(term_vector)"
   ]
  },
  {
   "cell_type": "code",
   "execution_count": 12,
   "metadata": {},
   "outputs": [
    {
     "name": "stdout",
     "output_type": "stream",
     "text": [
      "Distance Matrix\n",
      "array({'pencil': {'pencil': 0.99999999999999978, 'bus': 0.99508199040277434, 'signal': 0.98339219025809876, 'sail': 0.98813508774975123, 'pen': 0.99289738536211469, 'book': 0.99198169697357963, 'traffic': 0.99041880925817793, 'road': 0.99142639504022345, 'table': 0.99182494182455561, 'river': 0.99088015220835424, 'fish': 0.99130270452450175, 'boat': 0.99128637925633301}, 'bus': {'pencil': 0.99508199040277434, 'bus': 0.99999999999999989, 'signal': 0.99021031652196401, 'sail': 0.99545267930515213, 'pen': 0.99765823200013659, 'book': 0.99811735993441864, 'traffic': 0.9968441837592058, 'road': 0.9975687432031024, 'table': 0.99789460031340149, 'river': 0.99735771827717512, 'fish': 0.99752833082228887, 'boat': 0.99762319097987484}, 'signal': {'pencil': 0.98339219025809876, 'bus': 0.99021031652196401, 'signal': 0.99999999999999978, 'sail': 0.99137611442633133, 'pen': 0.99347160176719085, 'book': 0.99519998454698844, 'traffic': 0.99653615479191371, 'road': 0.99486857552968588, 'table': 0.99466816436577798, 'river': 0.99406451297088516, 'fish': 0.99447535589976266, 'boat': 0.99373533358838717}, 'sail': {'pencil': 0.98813508774975123, 'bus': 0.99545267930515213, 'signal': 0.99137611442633133, 'sail': 1.0000000000000002, 'pen': 0.99923549326982353, 'book': 0.99873160402164507, 'traffic': 0.99862073926616446, 'road': 0.99919122877065114, 'table': 0.99910135737844619, 'river': 0.99951821134758534, 'fish': 0.99934100114714364, 'boat': 0.99948693395454558}, 'pen': {'pencil': 0.99289738536211469, 'bus': 0.99765823200013659, 'signal': 0.99347160176719085, 'sail': 0.99923549326982353, 'pen': 0.99999999999999978, 'book': 0.99970286712052303, 'traffic': 0.99943167627845608, 'road': 0.99983660125045726, 'table': 0.99984471771085515, 'river': 0.99984160832400126, 'fish': 0.99986308296973159, 'boat': 0.99987271093320806}, 'book': {'pencil': 0.99198169697357963, 'bus': 0.99811735993441864, 'signal': 0.99519998454698844, 'sail': 0.99873160402164507, 'pen': 0.99970286712052303, 'book': 1.0, 'traffic': 0.9998150749746807, 'road': 0.99993532071876434, 'table': 0.99996388391545787, 'river': 0.99981159684606924, 'fish': 0.99989405871202275, 'boat': 0.99981725272299171}, 'traffic': {'pencil': 0.99041880925817793, 'bus': 0.9968441837592058, 'signal': 0.99653615479191371, 'sail': 0.99862073926616446, 'pen': 0.99943167627845608, 'book': 0.9998150749746807, 'traffic': 1.0000000000000002, 'road': 0.9998320453588363, 'table': 0.99977601836396224, 'river': 0.99966610153687585, 'fish': 0.99975925002098498, 'boat': 0.99958621201862985}, 'road': {'pencil': 0.99142639504022345, 'bus': 0.9975687432031024, 'signal': 0.99486857552968588, 'sail': 0.99919122877065114, 'pen': 0.99983660125045726, 'book': 0.99993532071876434, 'traffic': 0.9998320453588363, 'road': 1.0, 'table': 0.99998819719314513, 'river': 0.99995432030378317, 'fish': 0.99999091194165513, 'boat': 0.99993912470332391}, 'table': {'pencil': 0.99182494182455561, 'bus': 0.99789460031340149, 'signal': 0.99466816436577798, 'sail': 0.99910135737844619, 'pen': 0.99984471771085515, 'book': 0.99996388391545787, 'traffic': 0.99977601836396224, 'road': 0.99998819719314513, 'table': 1.0000000000000002, 'river': 0.99993439626539982, 'fish': 0.99997846208494234, 'boat': 0.99993928639637286}, 'river': {'pencil': 0.99088015220835424, 'bus': 0.99735771827717512, 'signal': 0.99406451297088516, 'sail': 0.99951821134758534, 'pen': 0.99984160832400126, 'book': 0.99981159684606924, 'traffic': 0.99966610153687585, 'road': 0.99995432030378317, 'table': 0.99993439626539982, 'river': 0.99999999999999989, 'fish': 0.99998512104812687, 'boat': 0.99998979766965967}, 'fish': {'pencil': 0.99130270452450175, 'bus': 0.99752833082228887, 'signal': 0.99447535589976266, 'sail': 0.99934100114714364, 'pen': 0.99986308296973159, 'book': 0.99989405871202275, 'traffic': 0.99975925002098498, 'road': 0.99999091194165513, 'table': 0.99997846208494234, 'river': 0.99998512104812687, 'fish': 0.99999999999999989, 'boat': 0.99997552665804179}, 'boat': {'pencil': 0.99128637925633301, 'bus': 0.99762319097987484, 'signal': 0.99373533358838717, 'sail': 0.99948693395454558, 'pen': 0.99987271093320806, 'book': 0.99981725272299171, 'traffic': 0.99958621201862985, 'road': 0.99993912470332391, 'table': 0.99993928639637286, 'river': 0.99998979766965967, 'fish': 0.99997552665804179, 'boat': 0.99999999999999989}}, dtype=object)\n"
     ]
    }
   ],
   "source": [
    "Matrix={}\n",
    "for tv1 in term_vector:\n",
    "\tMatrix[tv1]={}\n",
    "\tfor tv2 in term_vector:\n",
    "\t\tMatrix[tv1][tv2] =1-spatial.distance.cosine(term_vector[tv1],term_vector[tv2])\n",
    "        \n",
    "Distance_Matrix=np.array(Matrix)\n",
    "print \"Distance Matrix\"\n",
    "pprint.pprint(Distance_Matrix)"
   ]
  },
  {
   "cell_type": "code",
   "execution_count": 13,
   "metadata": {},
   "outputs": [],
   "source": [
    "with open('matrix', 'wb') as fp:\n",
    "    pickle.dump(Matrix, fp)\n",
    "\n",
    "with open ('matrix', 'rb') as fp:\n",
    "    Matrix = pickle.load(fp)"
   ]
  },
  {
   "cell_type": "code",
   "execution_count": 14,
   "metadata": {},
   "outputs": [
    {
     "name": "stdout",
     "output_type": "stream",
     "text": [
      "[[0.99999999999999978, 0.99508199040277434, 0.98339219025809876, 0.98813508774975123, 0.99289738536211469, 0.99198169697357963, 0.99041880925817793, 0.99128637925633301, 0.99182494182455561, 0.99088015220835424, 0.99130270452450175, 0.99142639504022345], [0.99508199040277434, 0.99999999999999989, 0.99021031652196401, 0.99545267930515213, 0.99765823200013659, 0.99811735993441864, 0.9968441837592058, 0.99762319097987484, 0.99789460031340149, 0.99735771827717512, 0.99752833082228887, 0.9975687432031024], [0.98339219025809876, 0.99021031652196401, 0.99999999999999978, 0.99137611442633133, 0.99347160176719085, 0.99519998454698844, 0.99653615479191371, 0.99373533358838717, 0.99466816436577798, 0.99406451297088516, 0.99447535589976266, 0.99486857552968588], [0.98813508774975123, 0.99545267930515213, 0.99137611442633133, 1.0000000000000002, 0.99923549326982353, 0.99873160402164507, 0.99862073926616446, 0.99948693395454558, 0.99910135737844619, 0.99951821134758534, 0.99934100114714364, 0.99919122877065114], [0.99289738536211469, 0.99765823200013659, 0.99347160176719085, 0.99923549326982353, 0.99999999999999978, 0.99970286712052303, 0.99943167627845608, 0.99987271093320806, 0.99984471771085515, 0.99984160832400126, 0.99986308296973159, 0.99983660125045726], [0.99198169697357963, 0.99811735993441864, 0.99519998454698844, 0.99873160402164507, 0.99970286712052303, 1.0, 0.9998150749746807, 0.99981725272299171, 0.99996388391545787, 0.99981159684606924, 0.99989405871202275, 0.99993532071876434], [0.99041880925817793, 0.9968441837592058, 0.99653615479191371, 0.99862073926616446, 0.99943167627845608, 0.9998150749746807, 1.0000000000000002, 0.99958621201862985, 0.99977601836396224, 0.99966610153687585, 0.99975925002098498, 0.9998320453588363], [0.99128637925633301, 0.99762319097987484, 0.99373533358838717, 0.99948693395454558, 0.99987271093320806, 0.99981725272299171, 0.99958621201862985, 0.99999999999999989, 0.99993928639637286, 0.99998979766965967, 0.99997552665804179, 0.99993912470332391], [0.99182494182455561, 0.99789460031340149, 0.99466816436577798, 0.99910135737844619, 0.99984471771085515, 0.99996388391545787, 0.99977601836396224, 0.99993928639637286, 1.0000000000000002, 0.99993439626539982, 0.99997846208494234, 0.99998819719314513], [0.99088015220835424, 0.99735771827717512, 0.99406451297088516, 0.99951821134758534, 0.99984160832400126, 0.99981159684606924, 0.99966610153687585, 0.99998979766965967, 0.99993439626539982, 0.99999999999999989, 0.99998512104812687, 0.99995432030378317], [0.99130270452450175, 0.99752833082228887, 0.99447535589976266, 0.99934100114714364, 0.99986308296973159, 0.99989405871202275, 0.99975925002098498, 0.99997552665804179, 0.99997846208494234, 0.99998512104812687, 0.99999999999999989, 0.99999091194165513], [0.99142639504022345, 0.9975687432031024, 0.99486857552968588, 0.99919122877065114, 0.99983660125045726, 0.99993532071876434, 0.9998320453588363, 0.99993912470332391, 0.99998819719314513, 0.99995432030378317, 0.99999091194165513, 1.0]]\n",
      "Vocab ['pencil' 'bus' 'signal' 'sail' 'pen' 'book' 'traffic' 'boat' 'table'\n",
      " 'river' 'fish' 'road']\n",
      "Labels {0: 'pencil', 1: 'bus', 2: 'signal', 3: 'sail', 4: 'pen', 5: 'book', 6: 'traffic', 7: 'boat', 8: 'table', 9: 'river', 10: 'fish', 11: 'road'}\n"
     ]
    }
   ],
   "source": [
    "i=0\n",
    "l=len(vocab)\n",
    "w, h = 8, 5;\n",
    "DM = [[0 for x in range(l)] for y in range(l)]\n",
    "labels={}\n",
    "\n",
    "i=0\n",
    "for l1 in Matrix:\n",
    "\tlabels[i]=l1\n",
    "\tj=0\n",
    "\tfor l2 in Matrix[l1]:\n",
    "\t\tif Matrix[l1][l2]<0.5:\n",
    "\t\t\tDM[i][j]=0            \n",
    "\t\telse:\n",
    "\t\t\tDM[i][j]=Matrix[l1][l2]\n",
    "\t\tj=j+1\n",
    "\ti=i+1\t\n",
    "vocab=np.asarray(vocab)\t\n",
    "\n",
    "print DM\n",
    "print \"Vocab\",vocab\n",
    "print \"Labels\",labels"
   ]
  },
  {
   "cell_type": "code",
   "execution_count": 15,
   "metadata": {},
   "outputs": [],
   "source": [
    "#MCL Start\t\n",
    "import mcl_c\n",
    "import networkx as nx\n",
    "DM=np.array(DM)\n",
    "G = nx.from_numpy_matrix(np.matrix(DM))\n",
    "#~ print \"============\"\n",
    "#~ print DM\n",
    "#~ print \"============\"\n",
    "#~ print G.nodes()\n",
    "#~ print \"============\"\n",
    "#~ print labels\n",
    "#~ #inflate > more finer"
   ]
  },
  {
   "cell_type": "code",
   "execution_count": 16,
   "metadata": {},
   "outputs": [
    {
     "name": "stdout",
     "output_type": "stream",
     "text": [
      "Clusters {0: [0, 1, 2, 3, 4, 5, 6, 7, 8, 9, 10, 11], 1: [0, 1, 2, 3, 4, 5, 6, 7, 8, 9, 10, 11], 2: [0, 1, 2, 3, 4, 5, 6, 7, 8, 9, 10, 11], 3: [0, 1, 2, 3, 4, 5, 6, 7, 8, 9, 10, 11], 4: [0, 1, 2, 3, 4, 5, 6, 7, 8, 9, 10, 11], 5: [0, 1, 2, 3, 4, 5, 6, 7, 8, 9, 10, 11], 6: [0, 1, 2, 3, 4, 5, 6, 7, 8, 9, 10, 11], 7: [0, 1, 2, 3, 4, 5, 6, 7, 8, 9, 10, 11], 8: [0, 1, 2, 3, 4, 5, 6, 7, 8, 9, 10, 11], 9: [0, 1, 2, 3, 4, 5, 6, 7, 8, 9, 10, 11], 10: [0, 1, 2, 3, 4, 5, 6, 7, 8, 9, 10, 11], 11: [0, 1, 2, 3, 4, 5, 6, 7, 8, 9, 10, 11]}\n"
     ]
    },
    {
     "data": {
      "image/png": "[encoded data removed]",
      "text/plain": [
       "<matplotlib.figure.Figure at 0x7f0f9b3acbd0>"
      ]
     },
     "metadata": {},
     "output_type": "display_data"
    },
    {
     "data": {
      "image/png": "[encoded data removed]",
      "text/plain": [
       "<matplotlib.figure.Figure at 0x7f0f9b6cfe90>"
      ]
     },
     "metadata": {},
     "output_type": "display_data"
    }
   ],
   "source": [
    "M, clusters = mcl_c.mcl(DM, expand_factor = 4, inflate_factor = 2, max_loop = 10, mult_factor = 4)\n",
    "#5,2,10,5\n",
    "print \"Clusters\",clusters\n",
    "pos=mcl_c.draw(G,M,clusters,labels)\n",
    "#MCL END\n",
    "\n",
    "final={}\n",
    "no=0\n",
    "for k in clusters:\n",
    "    t=[]\n",
    "    for v in clusters[k]:\n",
    "        t+=[labels[v]]\n",
    "#     if len(t)==len(clusters[k]):\n",
    "#         for i in t:\n",
    "    final[no]=t\n",
    "    no=no+1\n",
    "# print clusters  "
   ]
  },
  {
   "cell_type": "code",
   "execution_count": 17,
   "metadata": {},
   "outputs": [
    {
     "name": "stdout",
     "output_type": "stream",
     "text": [
      "['pencil', 'bus', 'signal', 'sail', 'pen', 'book', 'traffic', 'boat', 'table', 'river', 'fish', 'road'] Sport\n"
     ]
    }
   ],
   "source": [
    "keywords=['History','Technology','Sport']\n",
    "unique=[]\n",
    "for l in final:\n",
    "    keypoint=[]\n",
    "    for k in keywords:\n",
    "        point=0\n",
    "        wordFromList1 = wordnet.synsets(k)\n",
    "        for i in final[l]:\n",
    "            wordFromList2 = wordnet.synsets(i)\n",
    "            p=0\n",
    "            for wl1 in wordFromList1:\n",
    "                for wl2 in wordFromList2:\n",
    "                    sim_p=wl1.wup_similarity(wl2)\n",
    "                    if sim_p>p:\n",
    "                        p=sim_p\n",
    "            if len(wordFromList1)>0 or len(wordFromList1)>0: \n",
    "                point=point+p\n",
    "        keypoint.append(point)\n",
    "    s=0\n",
    "    for kp in keypoint:\n",
    "        s=s+kp\n",
    "    if s not in unique:    \n",
    "        max_value = max(keypoint)\n",
    "        max_index = keypoint.index(max_value)\n",
    "        print final[l],keywords[max_index]\n",
    "        unique+=[s]\n",
    "    "
   ]
  },
  {
   "cell_type": "code",
   "execution_count": 22,
   "metadata": {},
   "outputs": [
    {
     "name": "stdout",
     "output_type": "stream",
     "text": [
      "pencil\n",
      "bus\n",
      "signal\n",
      "sail\n",
      "boat, book, fish, pen, river, road, table, traffic\n",
      "5\n"
     ]
    },
    {
     "data": {
      "text/plain": [
       "0.59327577479981186"
      ]
     },
     "execution_count": 22,
     "metadata": {},
     "output_type": "execute_result"
    }
   ],
   "source": [
    "from sklearn import metrics\n",
    "\n",
    "affprop = sklearn.cluster.AffinityPropagation(affinity=\"precomputed\", damping=0.6)\n",
    "# affprop = sklearn.cluster.AffinityPropagation(preference=-565,affinity=\"euclidean\",convergence_iter=5, damping=0.5)\n",
    "affprop.fit(DM)\n",
    "count=0\n",
    "for cluster_id in np.unique(affprop.labels_):\n",
    "    exemplar = vocab[affprop.cluster_centers_indices_[cluster_id]]\n",
    "    cluster = np.unique(vocab[np.nonzero(affprop.labels_==cluster_id)])\n",
    "    cluster_str = \", \".join(cluster)\n",
    "    print(cluster_str)\n",
    "    count=count+1\n",
    "print count\n",
    "metrics.silhouette_score(DM,affprop.labels_,metric='sqeuclidean')"
   ]
  },
  {
   "cell_type": "code",
   "execution_count": null,
   "metadata": {},
   "outputs": [],
   "source": []
  },
  {
   "cell_type": "code",
   "execution_count": 24,
   "metadata": {},
   "outputs": [
    {
     "name": "stdout",
     "output_type": "stream",
     "text": [
      "[0 0 0 0 0 1 0 4 3 1 2 0]\n"
     ]
    },
    {
     "data": {
      "text/plain": [
       "-0.5081473581768865"
      ]
     },
     "execution_count": 24,
     "metadata": {},
     "output_type": "execute_result"
    }
   ],
   "source": [
    "from sklearn.cluster import AgglomerativeClustering\n",
    "agg_cluster = AgglomerativeClustering(n_clusters=5, affinity='precomputed',linkage='complete')\n",
    "clust=agg_cluster.fit_predict(DM)\n",
    "print clust\n",
    "# print agg.children_\n",
    "metrics.silhouette_score(DM,agg_cluster.labels_,metric='sqeuclidean')"
   ]
  },
  {
   "cell_type": "code",
   "execution_count": 20,
   "metadata": {},
   "outputs": [],
   "source": [
    "Z = []\n",
    "# should really call this cluster dict\n",
    "node_dict = {}\n",
    "n_samples = len(DM)\n",
    "def get_all_children(k, verbose=False):\n",
    "    i,j = agg_cluster.children_[k]\n",
    "\n",
    "    if k in node_dict:\n",
    "        return node_dict[k]['children']\n",
    "\n",
    "    if i < leaf_count:\n",
    "        left = [i]\n",
    "    else:\n",
    "        # read the AgglomerativeClustering doc. to see why I select i-n_samples\n",
    "        left = get_all_children(i-n_samples)\n",
    "\n",
    "    if j < leaf_count:\n",
    "        right = [j]\n",
    "    else:\n",
    "        right = get_all_children(j-n_samples)\n",
    "\n",
    "    if verbose:\n",
    "        print k,i,j,left, right\n",
    "    left_pos = np.mean(map(lambda ii: X[ii], left),axis=0)\n",
    "    right_pos = np.mean(map(lambda ii: X[ii], right),axis=0)\n",
    "\n",
    "    # this assumes that agg_cluster used euclidean distances\n",
    "    dist = metrics.pairwise_distances([left_pos,right_pos],metric='euclidean')[0,1]\n",
    "\n",
    "    all_children = [x for y in [left,right] for x in y]\n",
    "    pos = np.mean(map(lambda ii: X[ii], all_children),axis=0)\n",
    "\n",
    "    # store the results to speed up any additional or recursive evaluations\n",
    "    node_dict[k] = {'top_child':[i,j],'children':all_children, 'pos':pos,'dist':dist, 'node_i':k + n_samples}\n",
    "    return all_children\n",
    "    #return node_di|ct"
   ]
  },
  {
   "cell_type": "code",
   "execution_count": 21,
   "metadata": {},
   "outputs": [
    {
     "ename": "NameError",
     "evalue": "global name 'leaf_count' is not defined",
     "output_type": "error",
     "traceback": [
      "\u001b[0;31m---------------------------------------------------------------------------\u001b[0m",
      "\u001b[0;31mNameError\u001b[0m                                 Traceback (most recent call last)",
      "\u001b[0;32m<ipython-input-21-de85e5d4a5fb>\u001b[0m in \u001b[0;36m<module>\u001b[0;34m()\u001b[0m\n\u001b[1;32m      1\u001b[0m \u001b[0;32mfor\u001b[0m \u001b[0mk\u001b[0m\u001b[0;34m,\u001b[0m\u001b[0mx\u001b[0m \u001b[0;32min\u001b[0m \u001b[0menumerate\u001b[0m\u001b[0;34m(\u001b[0m\u001b[0magg_cluster\u001b[0m\u001b[0;34m.\u001b[0m\u001b[0mchildren_\u001b[0m\u001b[0;34m)\u001b[0m\u001b[0;34m:\u001b[0m\u001b[0;34m\u001b[0m\u001b[0m\n\u001b[0;32m----> 2\u001b[0;31m     \u001b[0mget_all_children\u001b[0m\u001b[0;34m(\u001b[0m\u001b[0mk\u001b[0m\u001b[0;34m,\u001b[0m\u001b[0mverbose\u001b[0m\u001b[0;34m=\u001b[0m\u001b[0mFalse\u001b[0m\u001b[0;34m)\u001b[0m\u001b[0;34m\u001b[0m\u001b[0m\n\u001b[0m\u001b[1;32m      3\u001b[0m \u001b[0;34m\u001b[0m\u001b[0m\n\u001b[1;32m      4\u001b[0m \u001b[0;31m# Every row in the linkage matrix has the format [idx1, idx2, distance, sample_count].\u001b[0m\u001b[0;34m\u001b[0m\u001b[0;34m\u001b[0m\u001b[0m\n\u001b[1;32m      5\u001b[0m \u001b[0mZ\u001b[0m \u001b[0;34m=\u001b[0m \u001b[0;34m[\u001b[0m\u001b[0;34m[\u001b[0m\u001b[0mv\u001b[0m\u001b[0;34m[\u001b[0m\u001b[0;34m'top_child'\u001b[0m\u001b[0;34m]\u001b[0m\u001b[0;34m[\u001b[0m\u001b[0;36m0\u001b[0m\u001b[0;34m]\u001b[0m\u001b[0;34m,\u001b[0m\u001b[0mv\u001b[0m\u001b[0;34m[\u001b[0m\u001b[0;34m'top_child'\u001b[0m\u001b[0;34m]\u001b[0m\u001b[0;34m[\u001b[0m\u001b[0;36m1\u001b[0m\u001b[0;34m]\u001b[0m\u001b[0;34m,\u001b[0m\u001b[0mv\u001b[0m\u001b[0;34m[\u001b[0m\u001b[0;34m'dist'\u001b[0m\u001b[0;34m]\u001b[0m\u001b[0;34m,\u001b[0m\u001b[0mlen\u001b[0m\u001b[0;34m(\u001b[0m\u001b[0mv\u001b[0m\u001b[0;34m[\u001b[0m\u001b[0;34m'children'\u001b[0m\u001b[0;34m]\u001b[0m\u001b[0;34m)\u001b[0m\u001b[0;34m]\u001b[0m \u001b[0;32mfor\u001b[0m \u001b[0mk\u001b[0m\u001b[0;34m,\u001b[0m\u001b[0mv\u001b[0m \u001b[0;32min\u001b[0m \u001b[0mnode_dict\u001b[0m\u001b[0;34m.\u001b[0m\u001b[0miteritems\u001b[0m\u001b[0;34m(\u001b[0m\u001b[0;34m)\u001b[0m\u001b[0;34m]\u001b[0m\u001b[0;34m\u001b[0m\u001b[0m\n",
      "\u001b[0;32m<ipython-input-20-145ed9c782b2>\u001b[0m in \u001b[0;36mget_all_children\u001b[0;34m(k, verbose)\u001b[0m\n\u001b[1;32m      9\u001b[0m         \u001b[0;32mreturn\u001b[0m \u001b[0mnode_dict\u001b[0m\u001b[0;34m[\u001b[0m\u001b[0mk\u001b[0m\u001b[0;34m]\u001b[0m\u001b[0;34m[\u001b[0m\u001b[0;34m'children'\u001b[0m\u001b[0;34m]\u001b[0m\u001b[0;34m\u001b[0m\u001b[0m\n\u001b[1;32m     10\u001b[0m \u001b[0;34m\u001b[0m\u001b[0m\n\u001b[0;32m---> 11\u001b[0;31m     \u001b[0;32mif\u001b[0m \u001b[0mi\u001b[0m \u001b[0;34m<\u001b[0m \u001b[0mleaf_count\u001b[0m\u001b[0;34m:\u001b[0m\u001b[0;34m\u001b[0m\u001b[0m\n\u001b[0m\u001b[1;32m     12\u001b[0m         \u001b[0mleft\u001b[0m \u001b[0;34m=\u001b[0m \u001b[0;34m[\u001b[0m\u001b[0mi\u001b[0m\u001b[0;34m]\u001b[0m\u001b[0;34m\u001b[0m\u001b[0m\n\u001b[1;32m     13\u001b[0m     \u001b[0;32melse\u001b[0m\u001b[0;34m:\u001b[0m\u001b[0;34m\u001b[0m\u001b[0m\n",
      "\u001b[0;31mNameError\u001b[0m: global name 'leaf_count' is not defined"
     ]
    }
   ],
   "source": [
    "for k,x in enumerate(agg_cluster.children_):   \n",
    "    get_all_children(k,verbose=False)\n",
    "\n",
    "# Every row in the linkage matrix has the format [idx1, idx2, distance, sample_count].\n",
    "Z = [[v['top_child'][0],v['top_child'][1],v['dist'],len(v['children'])] for k,v in node_dict.iteritems()]\n",
    "# create a version with log scaled distances for easier visualization\n",
    "Z_log =[[v['top_child'][0],v['top_child'][1],np.log(1.0+v['dist']),len(v['children'])] for k,v in node_dict.iteritems()]"
   ]
  },
  {
   "cell_type": "code",
   "execution_count": null,
   "metadata": {},
   "outputs": [],
   "source": [
    "from scipy.cluster import hierarchy\n",
    "plt.figure()\n",
    "dn = hierarchy.dendrogram(Z_log,p=4,truncate_mode='level')\n",
    "plt.show()"
   ]
  },
  {
   "cell_type": "code",
   "execution_count": null,
   "metadata": {},
   "outputs": [],
   "source": []
  }
 ],
 "metadata": {
  "celltoolbar": "Attachments",
  "kernelspec": {
   "display_name": "Python 2",
   "language": "python",
   "name": "python2"
  },
  "language_info": {
   "codemirror_mode": {
    "name": "ipython",
    "version": 2
   },
   "file_extension": ".py",
   "mimetype": "text/x-python",
   "name": "python",
   "nbconvert_exporter": "python",
   "pygments_lexer": "ipython2",
   "version": "2.7.12"
  }
 },
 "nbformat": 4,
 "nbformat_minor": 1
}
